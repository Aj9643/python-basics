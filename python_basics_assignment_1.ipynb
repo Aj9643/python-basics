{
  "nbformat": 4,
  "nbformat_minor": 0,
  "metadata": {
    "colab": {
      "provenance": []
    },
    "kernelspec": {
      "name": "python3",
      "display_name": "Python 3"
    },
    "language_info": {
      "name": "python"
    }
  },
  "cells": [
    {
      "cell_type": "markdown",
      "source": [
        "# python basics"
      ],
      "metadata": {
        "id": "hKhOB8UBncKz"
      }
    },
    {
      "cell_type": "markdown",
      "source": [
        "1 What is Python, and why is it popular?\n",
        "  - python is a programing language by which we can connect with computer and we can clear unstructured data with this language\n",
        "\n",
        "  - python is ao much populer insted of other pragraming language beacause their are lots of libraries ( pre defined lunctions) in python.\n",
        "\n",
        "2 What is an interpreter in Python\n",
        "  - it reads python language code and exicute it line by line\n",
        "\n",
        "3 What are pre-defined keywords in Python?\n",
        "  - pre-defined functions are those which used in code with some specific purpose and they have their own meaning we cant introduse it as any identifiers.\n",
        "  ex- if, elif, and , in etc\n",
        "\n",
        "4 Can keywords be used as variable names\n",
        "  - no, because the are pre defined functions\n",
        "\n",
        "5 What is mutability in Python?\n",
        "  - it is reffer to the further modification and customization and pop or remove the data from any set, list and different data structure.\n",
        "\n",
        "6 Why are lists mutable, but tuples are immutable?\n",
        "  - list are mutable beaause it is made to customised or change it further but if we talk about tuples, we cant change the tuple it is used it employ id or etc thingd.\n",
        "\n",
        "7  What is the difference between “==” and “is” operators in Python\n",
        "   - (==) is used to identify the value of x and y is same or notits a equality operator\n",
        "   - is is used to identify the x and y value is true or false its identify operator\n",
        "\n",
        "8  What are logical operators in Python ?\n",
        "   - logical operators are of 2 types and operator and or operator they are used to comnined and modify operational statement\n",
        "\n",
        "9  What is type casting in Python?\n",
        "   - to change a single data type into another\n",
        "   ex int, float, str, bool,\n",
        "\n",
        "10 What is the difference between implicit and explicit type casting ?\n",
        "   - implicit automatically conveersion of 1 data type into another from smaller to larger but in explicit type casting it is done manually by programer from one data type to another.\n",
        "\n",
        "11 What is the purpose of conditional statements in Python\n",
        "   - exicution of program based on certain contitions ex, if, else, elif they allow to make program as per the condition is true or false\n",
        "\n",
        "12  How does the elif statement work?\n",
        "   - if we want to exicute a program with multiple conditions then if-elif used\n",
        "   if \"if\" get wrong rhen it check \"elif\" when it get true value it will print otherwise print else\n",
        "\n",
        "13  What is the difference between for and while loops ?\n",
        "   - for loop is used when we know the range and it is automatically n+1\n",
        "   - while loop is udsed when we dont have exact range and we need to count +=1\n",
        "\n",
        "14 Describe a scenario where a while loop is more suitable than a for loop?\n",
        "   - While loop is better when you are waiting for a condition to happen. For example:- keep asking the\n",
        "user for a correct password until they enter it correctly (unknown number of tries)\n"
      ],
      "metadata": {
        "id": "PH7QA6SNnkzr"
      }
    },
    {
      "cell_type": "markdown",
      "source": [
        "# practical questions"
      ],
      "metadata": {
        "id": "-q-gVf2ZA4JO"
      }
    },
    {
      "cell_type": "code",
      "source": [
        "#  1  Write a Python program to print \"Hello, World!y\n",
        "\n",
        "print(\"hello world\")"
      ],
      "metadata": {
        "colab": {
          "base_uri": "https://localhost:8080/"
        },
        "id": "l42NuHS0ng9Y",
        "outputId": "419630e9-b377-4738-cd9f-87b54d2bac62"
      },
      "execution_count": 3,
      "outputs": [
        {
          "output_type": "stream",
          "name": "stdout",
          "text": [
            "hello world\n"
          ]
        }
      ]
    },
    {
      "cell_type": "code",
      "source": [
        "# 2 Write a Python program that displays your name and age8\n",
        "name= input(\" whats your name \")\n",
        "age= int(input(\" what your age \"))"
      ],
      "metadata": {
        "colab": {
          "base_uri": "https://localhost:8080/"
        },
        "id": "e1_YB1bgBGWx",
        "outputId": "cdb46b22-dd0c-4dff-f70a-8fed0f36f0d9"
      },
      "execution_count": 6,
      "outputs": [
        {
          "name": "stdout",
          "output_type": "stream",
          "text": [
            " whats your name aj\n",
            " what your age 25\n"
          ]
        }
      ]
    },
    {
      "cell_type": "code",
      "source": [
        "# 3 Write code to print all the pre-defined keywords in Python using the keyword\n",
        "import  keyword\n",
        "keywords_list = keyword.kwlist\n",
        "\n",
        "for kw in keywords_list:\n",
        "    print(kw)\n",
        "\n",
        "\n"
      ],
      "metadata": {
        "colab": {
          "base_uri": "https://localhost:8080/"
        },
        "id": "yvbPSwsJI1kK",
        "outputId": "9a9a07b8-9fc3-43c8-e9c3-6fd52979d582"
      },
      "execution_count": 22,
      "outputs": [
        {
          "output_type": "stream",
          "name": "stdout",
          "text": [
            "False\n",
            "None\n",
            "True\n",
            "and\n",
            "as\n",
            "assert\n",
            "async\n",
            "await\n",
            "break\n",
            "class\n",
            "continue\n",
            "def\n",
            "del\n",
            "elif\n",
            "else\n",
            "except\n",
            "finally\n",
            "for\n",
            "from\n",
            "global\n",
            "if\n",
            "import\n",
            "in\n",
            "is\n",
            "lambda\n",
            "nonlocal\n",
            "not\n",
            "or\n",
            "pass\n",
            "raise\n",
            "return\n",
            "try\n",
            "while\n",
            "with\n",
            "yield\n"
          ]
        }
      ]
    },
    {
      "cell_type": "code",
      "source": [
        "# 4 Write a program that checks if a given word is a Python keyword.\n",
        "import  keyword\n",
        "word=input(\"enter a word\")\n",
        "# Get the list of all keywords\n",
        "keywords_list = keyword.kwlist\n",
        "\n",
        "if word in keywords_list:\n",
        "  print(\"hureee\")\n",
        "else:\n",
        "  print(\"its not a keyword\")"
      ],
      "metadata": {
        "colab": {
          "base_uri": "https://localhost:8080/"
        },
        "id": "1S3rRNDkKZpk",
        "outputId": "585ec1d6-e16f-4a11-f162-4b70db11c810"
      },
      "execution_count": 27,
      "outputs": [
        {
          "output_type": "stream",
          "name": "stdout",
          "text": [
            "enter a wordkk\n",
            "its not a keyword\n"
          ]
        }
      ]
    },
    {
      "cell_type": "code",
      "source": [
        "# 5 Create a list and tuple in Python, and demonstrate how attempting to change an element works differently for each?\n",
        "\n",
        "A = [1,2,3,4]\n",
        "B = (1,2,3,4)\n",
        "A[0] = 5\n",
        "print(A)\n",
        "B[2] = 45\n",
        "print(B)"
      ],
      "metadata": {
        "colab": {
          "base_uri": "https://localhost:8080/",
          "height": 211
        },
        "id": "wawzO8hcK1E4",
        "outputId": "bb0f314d-ad41-4cda-f684-369155c760a0"
      },
      "execution_count": 50,
      "outputs": [
        {
          "output_type": "stream",
          "name": "stdout",
          "text": [
            "[5, 2, 3, 4]\n"
          ]
        },
        {
          "output_type": "error",
          "ename": "TypeError",
          "evalue": "'tuple' object does not support item assignment",
          "traceback": [
            "\u001b[0;31m---------------------------------------------------------------------------\u001b[0m",
            "\u001b[0;31mTypeError\u001b[0m                                 Traceback (most recent call last)",
            "\u001b[0;32m<ipython-input-50-c123e5122890>\u001b[0m in \u001b[0;36m<cell line: 0>\u001b[0;34m()\u001b[0m\n\u001b[1;32m      5\u001b[0m \u001b[0mA\u001b[0m\u001b[0;34m[\u001b[0m\u001b[0;36m0\u001b[0m\u001b[0;34m]\u001b[0m \u001b[0;34m=\u001b[0m \u001b[0;36m5\u001b[0m\u001b[0;34m\u001b[0m\u001b[0;34m\u001b[0m\u001b[0m\n\u001b[1;32m      6\u001b[0m \u001b[0mprint\u001b[0m\u001b[0;34m(\u001b[0m\u001b[0mA\u001b[0m\u001b[0;34m)\u001b[0m\u001b[0;34m\u001b[0m\u001b[0;34m\u001b[0m\u001b[0m\n\u001b[0;32m----> 7\u001b[0;31m \u001b[0mB\u001b[0m\u001b[0;34m[\u001b[0m\u001b[0;36m2\u001b[0m\u001b[0;34m]\u001b[0m \u001b[0;34m=\u001b[0m \u001b[0;36m45\u001b[0m\u001b[0;34m\u001b[0m\u001b[0;34m\u001b[0m\u001b[0m\n\u001b[0m\u001b[1;32m      8\u001b[0m \u001b[0mprint\u001b[0m\u001b[0;34m(\u001b[0m\u001b[0mB\u001b[0m\u001b[0;34m)\u001b[0m\u001b[0;34m\u001b[0m\u001b[0;34m\u001b[0m\u001b[0m\n",
            "\u001b[0;31mTypeError\u001b[0m: 'tuple' object does not support item assignment"
          ]
        }
      ]
    },
    {
      "cell_type": "code",
      "source": [
        "# 6  Write a function to demonstrate the behavior of mutable and immutable arguments.\n",
        "\n",
        "A = [1,2,3,4]\n",
        "B = (1,2,3,4)\n",
        "A[0] = 5\n",
        "print(A)\n",
        "B[2] = 45\n",
        "print(B)\n"
      ],
      "metadata": {
        "colab": {
          "base_uri": "https://localhost:8080/",
          "height": 211
        },
        "id": "4C2ONOMnMzMs",
        "outputId": "6009e69c-4332-4eef-d06b-8f6aa4ca4add"
      },
      "execution_count": 57,
      "outputs": [
        {
          "output_type": "stream",
          "name": "stdout",
          "text": [
            "[5, 2, 3, 4]\n"
          ]
        },
        {
          "output_type": "error",
          "ename": "TypeError",
          "evalue": "'tuple' object does not support item assignment",
          "traceback": [
            "\u001b[0;31m---------------------------------------------------------------------------\u001b[0m",
            "\u001b[0;31mTypeError\u001b[0m                                 Traceback (most recent call last)",
            "\u001b[0;32m<ipython-input-57-415d88893079>\u001b[0m in \u001b[0;36m<cell line: 0>\u001b[0;34m()\u001b[0m\n\u001b[1;32m      5\u001b[0m \u001b[0mA\u001b[0m\u001b[0;34m[\u001b[0m\u001b[0;36m0\u001b[0m\u001b[0;34m]\u001b[0m \u001b[0;34m=\u001b[0m \u001b[0;36m5\u001b[0m\u001b[0;34m\u001b[0m\u001b[0;34m\u001b[0m\u001b[0m\n\u001b[1;32m      6\u001b[0m \u001b[0mprint\u001b[0m\u001b[0;34m(\u001b[0m\u001b[0mA\u001b[0m\u001b[0;34m)\u001b[0m\u001b[0;34m\u001b[0m\u001b[0;34m\u001b[0m\u001b[0m\n\u001b[0;32m----> 7\u001b[0;31m \u001b[0mB\u001b[0m\u001b[0;34m[\u001b[0m\u001b[0;36m2\u001b[0m\u001b[0;34m]\u001b[0m \u001b[0;34m=\u001b[0m \u001b[0;36m45\u001b[0m\u001b[0;34m\u001b[0m\u001b[0;34m\u001b[0m\u001b[0m\n\u001b[0m\u001b[1;32m      8\u001b[0m \u001b[0mprint\u001b[0m\u001b[0;34m(\u001b[0m\u001b[0mB\u001b[0m\u001b[0;34m)\u001b[0m\u001b[0;34m\u001b[0m\u001b[0;34m\u001b[0m\u001b[0m\n",
            "\u001b[0;31mTypeError\u001b[0m: 'tuple' object does not support item assignment"
          ]
        }
      ]
    },
    {
      "cell_type": "code",
      "source": [
        "# 7  Write a program that performs basic arithmetic operations on two user-input numbers?\n",
        "\n",
        "num1 =int(input(\"enter a number\"))\n",
        "num2 =int(input(\"enter a number\"))\n",
        "print(\"addition of number\", num1+num2)\n",
        "print(\"subtraction of number\", num1-num2)\n",
        "print(\"multiplication of number\", num1*num2)\n",
        "if num2 !=0:\n",
        "  print(\"division of number \", num1/num2)\n",
        "else :\n",
        "  print(\"division is not possible\")"
      ],
      "metadata": {
        "colab": {
          "base_uri": "https://localhost:8080/"
        },
        "id": "r6uQ2dS-PSdJ",
        "outputId": "a633f31a-fec9-4bb9-c49e-f980b3b64d12"
      },
      "execution_count": 60,
      "outputs": [
        {
          "output_type": "stream",
          "name": "stdout",
          "text": [
            "enter a number45\n",
            "enter a number0\n",
            "addition of number 45\n",
            "subtraction of number 45\n",
            "multiplication of number 0\n",
            "division is not possible\n"
          ]
        }
      ]
    },
    {
      "cell_type": "code",
      "source": [
        "# 8 Write a program to demonstrate the use of logical operators?\n",
        "\n",
        "A=45\n",
        "B=100\n",
        "if A>0 and B<200:\n",
        "  print(\"t\")\n",
        "\n",
        "if A>100 or B<80:\n",
        "  print(\"t\")\n",
        "else:\n",
        "  print(\"f\")"
      ],
      "metadata": {
        "colab": {
          "base_uri": "https://localhost:8080/"
        },
        "id": "5j5xrAaYSYoN",
        "outputId": "3f851bf2-8f02-4eb4-b3e8-83623dc58f55"
      },
      "execution_count": 67,
      "outputs": [
        {
          "output_type": "stream",
          "name": "stdout",
          "text": [
            "t\n",
            "f\n"
          ]
        }
      ]
    },
    {
      "cell_type": "code",
      "source": [
        "# 9 Convert user input from string to integer, float, and boolean types\n",
        "A = \"15\"\n",
        "print(int(A))\n",
        "print(float(A))\n",
        "print(bool(A))"
      ],
      "metadata": {
        "colab": {
          "base_uri": "https://localhost:8080/"
        },
        "id": "vkQo320NTw91",
        "outputId": "c6214f10-2da4-4f06-d134-aca25069c484"
      },
      "execution_count": 81,
      "outputs": [
        {
          "output_type": "stream",
          "name": "stdout",
          "text": [
            "15\n",
            "15.0\n",
            "True\n"
          ]
        }
      ]
    },
    {
      "cell_type": "code",
      "source": [
        "# 10 Write code to demonstrate type casting with list elements.\n",
        "list_1 = [1,2,3,4,5]\n",
        "print(str(list_1))\n",
        "print(tuple(list_1))\n",
        "type(list_1)\n",
        "str(list_1)"
      ],
      "metadata": {
        "colab": {
          "base_uri": "https://localhost:8080/",
          "height": 70
        },
        "id": "kvDETGWiUwAV",
        "outputId": "1cf3d893-eefa-4f5a-e30d-5b4a59d1b3f4"
      },
      "execution_count": 84,
      "outputs": [
        {
          "output_type": "stream",
          "name": "stdout",
          "text": [
            "[1, 2, 3, 4, 5]\n",
            "(1, 2, 3, 4, 5)\n"
          ]
        },
        {
          "output_type": "execute_result",
          "data": {
            "text/plain": [
              "'[1, 2, 3, 4, 5]'"
            ],
            "application/vnd.google.colaboratory.intrinsic+json": {
              "type": "string"
            }
          },
          "metadata": {},
          "execution_count": 84
        }
      ]
    },
    {
      "cell_type": "code",
      "source": [
        "# 11. Write a program that checks if a number is positive, negative, or zero.\n",
        "num=(int(input(\"enter a number\")))\n",
        "if num>0:\n",
        "  print(\"positive\")\n",
        "elif num<0:\n",
        "  print(\"negative\")\n",
        "\n",
        "else:\n",
        "  print(\"neutral\")"
      ],
      "metadata": {
        "colab": {
          "base_uri": "https://localhost:8080/"
        },
        "id": "y5a4an67XqnD",
        "outputId": "636a0d12-80c7-4889-e88e-1b6811d66f95"
      },
      "execution_count": 90,
      "outputs": [
        {
          "output_type": "stream",
          "name": "stdout",
          "text": [
            "enter a number-45\n",
            "negative\n"
          ]
        }
      ]
    },
    {
      "cell_type": "code",
      "source": [
        "#  12. Write a for loop to print numbers from 1 to 10.\n",
        "for x in range (1,11):\n",
        "  print(x)"
      ],
      "metadata": {
        "colab": {
          "base_uri": "https://localhost:8080/"
        },
        "id": "BS3vegCcY9II",
        "outputId": "97b92770-328f-43ea-ec94-fd0d20eca74a"
      },
      "execution_count": 91,
      "outputs": [
        {
          "output_type": "stream",
          "name": "stdout",
          "text": [
            "1\n",
            "2\n",
            "3\n",
            "4\n",
            "5\n",
            "6\n",
            "7\n",
            "8\n",
            "9\n",
            "10\n"
          ]
        }
      ]
    },
    {
      "cell_type": "code",
      "source": [
        "# 13.  Write a Python program to find the sum of all even numbers between 1 and 50.\n",
        "totalsum= sum(i for i in range(1,51) if i%2==0)\n",
        "print(totalsum)"
      ],
      "metadata": {
        "colab": {
          "base_uri": "https://localhost:8080/"
        },
        "id": "xgCZwJ1BaHY6",
        "outputId": "19d279a7-e37e-485a-eec5-91e383330325"
      },
      "execution_count": 98,
      "outputs": [
        {
          "output_type": "stream",
          "name": "stdout",
          "text": [
            "650\n"
          ]
        }
      ]
    },
    {
      "cell_type": "code",
      "source": [
        "# 14. Write a program to reverse a string using a while loop.\n",
        "# Original string\n",
        "A = \"Abhishek Jayant\"\n",
        "\n",
        "# Initialize variables\n",
        "reversed_str = \"\"\n",
        "index = len(A) - 1\n",
        "\n",
        "# Reverse using while loop\n",
        "while index >= 0:\n",
        "    reversed_str += A[index]\n",
        "    index -= 1\n",
        "\n",
        "# Print the reversed string\n",
        "print(\"Original String:\", A)\n",
        "print(\"Reversed String:\", reversed_str)\n"
      ],
      "metadata": {
        "colab": {
          "base_uri": "https://localhost:8080/"
        },
        "id": "D1-_VHZMaig3",
        "outputId": "e9a7bfe4-8f20-48bf-dc9f-7d58ebce6e87"
      },
      "execution_count": 100,
      "outputs": [
        {
          "output_type": "stream",
          "name": "stdout",
          "text": [
            "Original String: Abhishek Jayant\n",
            "Reversed String: tnayaJ kehsihbA\n"
          ]
        }
      ]
    },
    {
      "cell_type": "code",
      "source": [
        "# 15. Write a Python program to calculate the factorial of a number provided by the user using a while loop.\n",
        "\n",
        "num = int(input(\"Enter a number: \"))\n",
        "factorial = 1\n",
        "i = 1\n",
        "while i <= num:\n",
        "factorial *= i\n",
        "i += 1\n",
        "print(\"Factorial:\", factorial)\n"
      ],
      "metadata": {
        "colab": {
          "base_uri": "https://localhost:8080/",
          "height": 106
        },
        "id": "ugqztaiIdi6r",
        "outputId": "3bbc0def-0cd7-411d-8fbe-d5a26825cd0b"
      },
      "execution_count": 101,
      "outputs": [
        {
          "output_type": "error",
          "ename": "IndentationError",
          "evalue": "expected an indented block after 'while' statement on line 6 (<ipython-input-101-914d41ba26a5>, line 7)",
          "traceback": [
            "\u001b[0;36m  File \u001b[0;32m\"<ipython-input-101-914d41ba26a5>\"\u001b[0;36m, line \u001b[0;32m7\u001b[0m\n\u001b[0;31m    factorial *= i\u001b[0m\n\u001b[0m    ^\u001b[0m\n\u001b[0;31mIndentationError\u001b[0m\u001b[0;31m:\u001b[0m expected an indented block after 'while' statement on line 6\n"
          ]
        }
      ]
    },
    {
      "cell_type": "code",
      "source": [],
      "metadata": {
        "id": "-hb6pHdJfsdy"
      },
      "execution_count": null,
      "outputs": []
    }
  ]
}